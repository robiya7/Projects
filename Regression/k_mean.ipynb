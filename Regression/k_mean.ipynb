{
 "cells": [
  {
   "cell_type": "code",
   "execution_count": 2,
   "metadata": {},
   "outputs": [],
   "source": [
    "import pandas as pd\n",
    "import numpy as np\n",
    "import seaborn as sb\n",
    "sb.set()\n",
    "import matplotlib.pyplot as plt\n",
    "%matplotlib inline\n",
    "from sklearn.cluster import KMeans\n",
    "from sklearn.preprocessing import MinMaxScaler\n",
    "from sklearn.metrics import classification_report\n",
    "from sklearn.preprocessing import StandardScaler\n",
    "from sklearn.cluster import AgglomerativeClustering\n",
    "from sklearn.metrics import silhouette_score"
   ]
  },
  {
   "cell_type": "code",
   "execution_count": 3,
   "metadata": {},
   "outputs": [],
   "source": [
    "# Importing dataset\n",
    "FinalR = pd.read_csv(\"FinalR.csv\")"
   ]
  },
  {
   "cell_type": "code",
   "execution_count": 4,
   "metadata": {},
   "outputs": [
    {
     "data": {
      "text/html": [
       "<div>\n",
       "<style scoped>\n",
       "    .dataframe tbody tr th:only-of-type {\n",
       "        vertical-align: middle;\n",
       "    }\n",
       "\n",
       "    .dataframe tbody tr th {\n",
       "        vertical-align: top;\n",
       "    }\n",
       "\n",
       "    .dataframe thead th {\n",
       "        text-align: right;\n",
       "    }\n",
       "</style>\n",
       "<table border=\"1\" class=\"dataframe\">\n",
       "  <thead>\n",
       "    <tr style=\"text-align: right;\">\n",
       "      <th></th>\n",
       "      <th>Severity</th>\n",
       "      <th>City</th>\n",
       "      <th>State</th>\n",
       "      <th>Temperature(F)</th>\n",
       "      <th>Humidity(%)</th>\n",
       "      <th>Pressure(in)</th>\n",
       "      <th>Visibility(mi)</th>\n",
       "      <th>Wind_Speed(mph)</th>\n",
       "      <th>Amenity</th>\n",
       "      <th>Bump</th>\n",
       "      <th>...</th>\n",
       "      <th>Turning_Loop</th>\n",
       "      <th>Sunrise_Sunset</th>\n",
       "      <th>Civil_Twilight</th>\n",
       "      <th>Nautical_Twilight</th>\n",
       "      <th>Astronomical_Twilight</th>\n",
       "      <th>year</th>\n",
       "      <th>Date</th>\n",
       "      <th>Month</th>\n",
       "      <th>Start Time</th>\n",
       "      <th>End Time</th>\n",
       "    </tr>\n",
       "  </thead>\n",
       "  <tbody>\n",
       "    <tr>\n",
       "      <th>0</th>\n",
       "      <td>3</td>\n",
       "      <td>Westfield</td>\n",
       "      <td>NY</td>\n",
       "      <td>26.1</td>\n",
       "      <td>66</td>\n",
       "      <td>30.19</td>\n",
       "      <td>10.0</td>\n",
       "      <td>3.5</td>\n",
       "      <td>0</td>\n",
       "      <td>0</td>\n",
       "      <td>...</td>\n",
       "      <td>0</td>\n",
       "      <td>1</td>\n",
       "      <td>1</td>\n",
       "      <td>1</td>\n",
       "      <td>1</td>\n",
       "      <td>2019</td>\n",
       "      <td>19/03/03</td>\n",
       "      <td>3</td>\n",
       "      <td>9:53:41</td>\n",
       "      <td>10:22:21</td>\n",
       "    </tr>\n",
       "    <tr>\n",
       "      <th>1</th>\n",
       "      <td>3</td>\n",
       "      <td>Hamburg</td>\n",
       "      <td>NY</td>\n",
       "      <td>28.0</td>\n",
       "      <td>61</td>\n",
       "      <td>30.03</td>\n",
       "      <td>10.0</td>\n",
       "      <td>5.8</td>\n",
       "      <td>0</td>\n",
       "      <td>0</td>\n",
       "      <td>...</td>\n",
       "      <td>0</td>\n",
       "      <td>1</td>\n",
       "      <td>1</td>\n",
       "      <td>1</td>\n",
       "      <td>1</td>\n",
       "      <td>2019</td>\n",
       "      <td>19/03/03</td>\n",
       "      <td>3</td>\n",
       "      <td>15:25:49</td>\n",
       "      <td>15:55:22</td>\n",
       "    </tr>\n",
       "    <tr>\n",
       "      <th>2</th>\n",
       "      <td>3</td>\n",
       "      <td>Grand Island</td>\n",
       "      <td>NY</td>\n",
       "      <td>25.0</td>\n",
       "      <td>75</td>\n",
       "      <td>30.04</td>\n",
       "      <td>2.5</td>\n",
       "      <td>8.1</td>\n",
       "      <td>0</td>\n",
       "      <td>0</td>\n",
       "      <td>...</td>\n",
       "      <td>0</td>\n",
       "      <td>1</td>\n",
       "      <td>1</td>\n",
       "      <td>1</td>\n",
       "      <td>1</td>\n",
       "      <td>2019</td>\n",
       "      <td>19/03/03</td>\n",
       "      <td>3</td>\n",
       "      <td>17:36:46</td>\n",
       "      <td>18:06:29</td>\n",
       "    </tr>\n",
       "    <tr>\n",
       "      <th>3</th>\n",
       "      <td>3</td>\n",
       "      <td>Niagara Falls</td>\n",
       "      <td>NY</td>\n",
       "      <td>25.0</td>\n",
       "      <td>75</td>\n",
       "      <td>30.04</td>\n",
       "      <td>2.5</td>\n",
       "      <td>8.1</td>\n",
       "      <td>0</td>\n",
       "      <td>0</td>\n",
       "      <td>...</td>\n",
       "      <td>0</td>\n",
       "      <td>1</td>\n",
       "      <td>1</td>\n",
       "      <td>1</td>\n",
       "      <td>1</td>\n",
       "      <td>2019</td>\n",
       "      <td>19/03/03</td>\n",
       "      <td>3</td>\n",
       "      <td>17:48:42</td>\n",
       "      <td>18:18:20</td>\n",
       "    </tr>\n",
       "    <tr>\n",
       "      <th>4</th>\n",
       "      <td>2</td>\n",
       "      <td>Bradford</td>\n",
       "      <td>PA</td>\n",
       "      <td>24.1</td>\n",
       "      <td>88</td>\n",
       "      <td>29.95</td>\n",
       "      <td>0.5</td>\n",
       "      <td>5.8</td>\n",
       "      <td>0</td>\n",
       "      <td>0</td>\n",
       "      <td>...</td>\n",
       "      <td>0</td>\n",
       "      <td>1</td>\n",
       "      <td>1</td>\n",
       "      <td>1</td>\n",
       "      <td>1</td>\n",
       "      <td>2019</td>\n",
       "      <td>19/03/03</td>\n",
       "      <td>3</td>\n",
       "      <td>17:54:31</td>\n",
       "      <td>18:24:07</td>\n",
       "    </tr>\n",
       "  </tbody>\n",
       "</table>\n",
       "<p>5 rows × 30 columns</p>\n",
       "</div>"
      ],
      "text/plain": [
       "   Severity           City State  Temperature(F)  Humidity(%)  Pressure(in)  \\\n",
       "0         3      Westfield    NY            26.1           66         30.19   \n",
       "1         3        Hamburg    NY            28.0           61         30.03   \n",
       "2         3   Grand Island    NY            25.0           75         30.04   \n",
       "3         3  Niagara Falls    NY            25.0           75         30.04   \n",
       "4         2       Bradford    PA            24.1           88         29.95   \n",
       "\n",
       "   Visibility(mi)  Wind_Speed(mph)  Amenity  Bump  ...  Turning_Loop  \\\n",
       "0            10.0              3.5        0     0  ...             0   \n",
       "1            10.0              5.8        0     0  ...             0   \n",
       "2             2.5              8.1        0     0  ...             0   \n",
       "3             2.5              8.1        0     0  ...             0   \n",
       "4             0.5              5.8        0     0  ...             0   \n",
       "\n",
       "   Sunrise_Sunset  Civil_Twilight  Nautical_Twilight  Astronomical_Twilight  \\\n",
       "0               1               1                  1                      1   \n",
       "1               1               1                  1                      1   \n",
       "2               1               1                  1                      1   \n",
       "3               1               1                  1                      1   \n",
       "4               1               1                  1                      1   \n",
       "\n",
       "   year      Date  Month  Start Time  End Time  \n",
       "0  2019  19/03/03      3     9:53:41  10:22:21  \n",
       "1  2019  19/03/03      3    15:25:49  15:55:22  \n",
       "2  2019  19/03/03      3    17:36:46  18:06:29  \n",
       "3  2019  19/03/03      3    17:48:42  18:18:20  \n",
       "4  2019  19/03/03      3    17:54:31  18:24:07  \n",
       "\n",
       "[5 rows x 30 columns]"
      ]
     },
     "execution_count": 4,
     "metadata": {},
     "output_type": "execute_result"
    }
   ],
   "source": [
    "FinalR.head()"
   ]
  },
  {
   "cell_type": "code",
   "execution_count": 5,
   "metadata": {},
   "outputs": [
    {
     "data": {
      "text/plain": [
       "(223223, 30)"
      ]
     },
     "execution_count": 5,
     "metadata": {},
     "output_type": "execute_result"
    }
   ],
   "source": [
    "FinalR.shape"
   ]
  },
  {
   "cell_type": "code",
   "execution_count": 32,
   "metadata": {},
   "outputs": [],
   "source": [
    "datafinal = FinalR.drop([\"City\",\"State\",\"Date\",\"Start Time\",\"End Time\",\"Amenity\",\"Bump\",\"Crossing\",\n",
    "                        \"Give_Way\",\"Junction\",\"No_Exit\",\"Railway\",\"Roundabout\",\"Station\",\"Stop\",\n",
    "                        \"Traffic_Calming\",\"Traffic_Signal\",\"Turning_Loop\",\"Sunrise_Sunset\",\"Civil_Twilight\",\n",
    "                        \"Nautical_Twilight\",\"year\",\"Month\",\"Severity\",\"Astronomical_Twilight\"],axis = 1)"
   ]
  },
  {
   "cell_type": "code",
   "execution_count": 33,
   "metadata": {},
   "outputs": [
    {
     "name": "stdout",
     "output_type": "stream",
     "text": [
      "<class 'pandas.core.frame.DataFrame'>\n",
      "RangeIndex: 223223 entries, 0 to 223222\n",
      "Data columns (total 5 columns):\n",
      "Temperature(F)     223223 non-null float64\n",
      "Humidity(%)        223223 non-null int64\n",
      "Pressure(in)       223223 non-null float64\n",
      "Visibility(mi)     223223 non-null float64\n",
      "Wind_Speed(mph)    223223 non-null float64\n",
      "dtypes: float64(4), int64(1)\n",
      "memory usage: 8.5 MB\n"
     ]
    }
   ],
   "source": [
    "datafinal.info()"
   ]
  },
  {
   "cell_type": "code",
   "execution_count": 34,
   "metadata": {},
   "outputs": [],
   "source": [
    "k_rg = range(1,11)\n",
    "sum_of_Square = []\n",
    "\n",
    "for k in k_rg:\n",
    "    km = KMeans(n_clusters=k,random_state=125)\n",
    "    km.fit(datafinal)\n",
    "    sum_of_Square.append(km.inertia_)"
   ]
  },
  {
   "cell_type": "code",
   "execution_count": 35,
   "metadata": {},
   "outputs": [
    {
     "data": {
      "text/plain": [
       "[179007147.62610686,\n",
       " 98146654.78834128,\n",
       " 70064431.24880737,\n",
       " 56550374.63328724,\n",
       " 46516317.542492665,\n",
       " 39564343.673193626,\n",
       " 33548192.69707229,\n",
       " 30817197.092651088,\n",
       " 28504944.264606394,\n",
       " 26491777.680465084]"
      ]
     },
     "execution_count": 35,
     "metadata": {},
     "output_type": "execute_result"
    }
   ],
   "source": [
    "sum_of_Square"
   ]
  },
  {
   "cell_type": "code",
   "execution_count": 36,
   "metadata": {},
   "outputs": [
    {
     "data": {
      "text/plain": [
       "[<matplotlib.lines.Line2D at 0x19cb79697f0>]"
      ]
     },
     "execution_count": 36,
     "metadata": {},
     "output_type": "execute_result"
    },
    {
     "data": {
      "image/png": "[encoded data removed]",
      "text/plain": [
       "<Figure size 432x288 with 1 Axes>"
      ]
     },
     "metadata": {
      "needs_background": "light"
     },
     "output_type": "display_data"
    }
   ],
   "source": [
    "plt.xlabel=('No of Clusters')\n",
    "plt.ylabel = ('sum of Squareed error')\n",
    "plt.title('Screen Plot')\n",
    "plt.plot(k_rg,sum_of_Square,marker=\"o\")"
   ]
  },
  {
   "cell_type": "code",
   "execution_count": 135,
   "metadata": {},
   "outputs": [
    {
     "data": {
      "text/plain": [
       "KMeans(algorithm='auto', copy_x=True, init='k-means++', max_iter=300,\n",
       "       n_clusters=3, n_init=10, n_jobs=None, precompute_distances='auto',\n",
       "       random_state=None, tol=0.0001, verbose=0)"
      ]
     },
     "execution_count": 135,
     "metadata": {},
     "output_type": "execute_result"
    }
   ],
   "source": [
    "km = KMeans(n_clusters=3)\n",
    "km"
   ]
  },
  {
   "cell_type": "code",
   "execution_count": 136,
   "metadata": {},
   "outputs": [
    {
     "data": {
      "text/plain": [
       "array([1, 1, 1, ..., 0, 0, 0])"
      ]
     },
     "execution_count": 136,
     "metadata": {},
     "output_type": "execute_result"
    }
   ],
   "source": [
    "ypredict = km.fit_predict(datafinal.iloc[:,:])\n",
    "ypredict"
   ]
  },
  {
   "cell_type": "code",
   "execution_count": 137,
   "metadata": {},
   "outputs": [
    {
     "name": "stdout",
     "output_type": "stream",
     "text": [
      "<class 'pandas.core.frame.DataFrame'>\n",
      "RangeIndex: 223223 entries, 0 to 223222\n",
      "Data columns (total 6 columns):\n",
      "Temperature(F)     223223 non-null int32\n",
      "Humidity(%)        223223 non-null int32\n",
      "Pressure(in)       223223 non-null int32\n",
      "Visibility(mi)     223223 non-null int32\n",
      "Wind_Speed(mph)    223223 non-null int32\n",
      "cluster            223223 non-null int32\n",
      "dtypes: int32(6)\n",
      "memory usage: 5.1 MB\n"
     ]
    }
   ],
   "source": [
    "datafinal.info()"
   ]
  },
  {
   "cell_type": "code",
   "execution_count": 138,
   "metadata": {},
   "outputs": [],
   "source": [
    "datafinal[\"Temperature(F)\"] = datafinal[\"Temperature(F)\"].astype(int)\n",
    "datafinal[\"Pressure(in)\"] = datafinal[\"Pressure(in)\"].astype(int)\n",
    "datafinal[\"Visibility(mi)\"] = datafinal[\"Visibility(mi)\"].astype(int)\n",
    "datafinal[\"Wind_Speed(mph)\"] = datafinal[\"Wind_Speed(mph)\"].astype(int)\n",
    "datafinal[\"Humidity(%)\"] = datafinal[\"Humidity(%)\"].astype(int)"
   ]
  },
  {
   "cell_type": "code",
   "execution_count": 141,
   "metadata": {},
   "outputs": [
    {
     "data": {
      "text/html": [
       "<div>\n",
       "<style scoped>\n",
       "    .dataframe tbody tr th:only-of-type {\n",
       "        vertical-align: middle;\n",
       "    }\n",
       "\n",
       "    .dataframe tbody tr th {\n",
       "        vertical-align: top;\n",
       "    }\n",
       "\n",
       "    .dataframe thead th {\n",
       "        text-align: right;\n",
       "    }\n",
       "</style>\n",
       "<table border=\"1\" class=\"dataframe\">\n",
       "  <thead>\n",
       "    <tr style=\"text-align: right;\">\n",
       "      <th></th>\n",
       "      <th>Temperature(F)</th>\n",
       "      <th>Humidity(%)</th>\n",
       "      <th>Pressure(in)</th>\n",
       "      <th>Visibility(mi)</th>\n",
       "      <th>Wind_Speed(mph)</th>\n",
       "      <th>cluster</th>\n",
       "    </tr>\n",
       "  </thead>\n",
       "  <tbody>\n",
       "    <tr>\n",
       "      <th>0</th>\n",
       "      <td>26</td>\n",
       "      <td>66</td>\n",
       "      <td>30</td>\n",
       "      <td>10</td>\n",
       "      <td>3</td>\n",
       "      <td>1</td>\n",
       "    </tr>\n",
       "    <tr>\n",
       "      <th>1</th>\n",
       "      <td>28</td>\n",
       "      <td>61</td>\n",
       "      <td>30</td>\n",
       "      <td>10</td>\n",
       "      <td>5</td>\n",
       "      <td>1</td>\n",
       "    </tr>\n",
       "    <tr>\n",
       "      <th>2</th>\n",
       "      <td>25</td>\n",
       "      <td>75</td>\n",
       "      <td>30</td>\n",
       "      <td>2</td>\n",
       "      <td>8</td>\n",
       "      <td>1</td>\n",
       "    </tr>\n",
       "    <tr>\n",
       "      <th>3</th>\n",
       "      <td>25</td>\n",
       "      <td>75</td>\n",
       "      <td>30</td>\n",
       "      <td>2</td>\n",
       "      <td>8</td>\n",
       "      <td>1</td>\n",
       "    </tr>\n",
       "    <tr>\n",
       "      <th>4</th>\n",
       "      <td>24</td>\n",
       "      <td>88</td>\n",
       "      <td>29</td>\n",
       "      <td>0</td>\n",
       "      <td>5</td>\n",
       "      <td>1</td>\n",
       "    </tr>\n",
       "  </tbody>\n",
       "</table>\n",
       "</div>"
      ],
      "text/plain": [
       "   Temperature(F)  Humidity(%)  Pressure(in)  Visibility(mi)  Wind_Speed(mph)  \\\n",
       "0              26           66            30              10                3   \n",
       "1              28           61            30              10                5   \n",
       "2              25           75            30               2                8   \n",
       "3              25           75            30               2                8   \n",
       "4              24           88            29               0                5   \n",
       "\n",
       "   cluster  \n",
       "0        1  \n",
       "1        1  \n",
       "2        1  \n",
       "3        1  \n",
       "4        1  "
      ]
     },
     "execution_count": 141,
     "metadata": {},
     "output_type": "execute_result"
    }
   ],
   "source": [
    "datafinal['cluster']=ypredict\n",
    "datafinal.head(5)"
   ]
  },
  {
   "cell_type": "code",
   "execution_count": 140,
   "metadata": {},
   "outputs": [
    {
     "data": {
      "text/plain": [
       "array([[4.90242084e+01, 8.54367409e+01, 2.96237394e+01, 7.54634171e+00,\n",
       "        7.99888849e+00, 1.00033651e+00],\n",
       "       [2.26684315e+01, 7.23042083e+01, 2.97639657e+01, 8.25866227e+00,\n",
       "        9.16022700e+00, 1.99905717e+00],\n",
       "       [5.40567817e+01, 4.31292193e+01, 2.97609028e+01, 1.01456182e+01,\n",
       "        9.05433898e+00, 5.58442181e-13]])"
      ]
     },
     "execution_count": 140,
     "metadata": {},
     "output_type": "execute_result"
    }
   ],
   "source": [
    "km.cluster_centers_"
   ]
  },
  {
   "cell_type": "code",
   "execution_count": 85,
   "metadata": {},
   "outputs": [
    {
     "data": {
      "text/plain": [
       "array([2, 2, 2, ..., 1, 1, 1])"
      ]
     },
     "execution_count": 85,
     "metadata": {},
     "output_type": "execute_result"
    }
   ],
   "source": [
    "km.labels_"
   ]
  },
  {
   "cell_type": "code",
   "execution_count": 86,
   "metadata": {},
   "outputs": [
    {
     "data": {
      "text/plain": [
       "0.357347994523546"
      ]
     },
     "execution_count": 86,
     "metadata": {},
     "output_type": "execute_result"
    }
   ],
   "source": [
    "silhouette_score(datafinal, km.labels_)"
   ]
  },
  {
   "cell_type": "markdown",
   "metadata": {},
   "source": [
    "# Displays 1st, 2nd and 3rd centroid of the scatter plot"
   ]
  },
  {
   "cell_type": "code",
   "execution_count": 87,
   "metadata": {},
   "outputs": [],
   "source": [
    "# Distributing the cluster value into DB1, DB2,DB3.  This will help in plotting scatter plotter to identify the proper group\n",
    "k_df1 = datafinal[datafinal.cluster==0]\n",
    "k_df2 = datafinal[datafinal.cluster==1]\n",
    "k_df3 = datafinal[datafinal.cluster==2]\n",
    "k_df4 = datafinal[datafinal.cluster==3]\n"
   ]
  },
  {
   "cell_type": "code",
   "execution_count": 117,
   "metadata": {},
   "outputs": [
    {
     "data": {
      "text/html": [
       "<div>\n",
       "<style scoped>\n",
       "    .dataframe tbody tr th:only-of-type {\n",
       "        vertical-align: middle;\n",
       "    }\n",
       "\n",
       "    .dataframe tbody tr th {\n",
       "        vertical-align: top;\n",
       "    }\n",
       "\n",
       "    .dataframe thead th {\n",
       "        text-align: right;\n",
       "    }\n",
       "</style>\n",
       "<table border=\"1\" class=\"dataframe\">\n",
       "  <thead>\n",
       "    <tr style=\"text-align: right;\">\n",
       "      <th></th>\n",
       "      <th>Temperature(F)</th>\n",
       "      <th>Humidity(%)</th>\n",
       "      <th>Pressure(in)</th>\n",
       "      <th>Visibility(mi)</th>\n",
       "      <th>Wind_Speed(mph)</th>\n",
       "      <th>cluster</th>\n",
       "    </tr>\n",
       "  </thead>\n",
       "  <tbody>\n",
       "    <tr>\n",
       "      <th>9</th>\n",
       "      <td>39</td>\n",
       "      <td>53</td>\n",
       "      <td>30</td>\n",
       "      <td>10</td>\n",
       "      <td>4</td>\n",
       "      <td>0</td>\n",
       "    </tr>\n",
       "    <tr>\n",
       "      <th>10</th>\n",
       "      <td>39</td>\n",
       "      <td>53</td>\n",
       "      <td>30</td>\n",
       "      <td>10</td>\n",
       "      <td>4</td>\n",
       "      <td>0</td>\n",
       "    </tr>\n",
       "    <tr>\n",
       "      <th>11</th>\n",
       "      <td>39</td>\n",
       "      <td>45</td>\n",
       "      <td>30</td>\n",
       "      <td>10</td>\n",
       "      <td>5</td>\n",
       "      <td>0</td>\n",
       "    </tr>\n",
       "    <tr>\n",
       "      <th>24</th>\n",
       "      <td>41</td>\n",
       "      <td>38</td>\n",
       "      <td>30</td>\n",
       "      <td>10</td>\n",
       "      <td>3</td>\n",
       "      <td>0</td>\n",
       "    </tr>\n",
       "    <tr>\n",
       "      <th>25</th>\n",
       "      <td>37</td>\n",
       "      <td>42</td>\n",
       "      <td>30</td>\n",
       "      <td>10</td>\n",
       "      <td>8</td>\n",
       "      <td>0</td>\n",
       "    </tr>\n",
       "  </tbody>\n",
       "</table>\n",
       "</div>"
      ],
      "text/plain": [
       "    Temperature(F)  Humidity(%)  Pressure(in)  Visibility(mi)  \\\n",
       "9               39           53            30              10   \n",
       "10              39           53            30              10   \n",
       "11              39           45            30              10   \n",
       "24              41           38            30              10   \n",
       "25              37           42            30              10   \n",
       "\n",
       "    Wind_Speed(mph)  cluster  \n",
       "9                 4        0  \n",
       "10                4        0  \n",
       "11                5        0  \n",
       "24                3        0  \n",
       "25                8        0  "
      ]
     },
     "execution_count": 117,
     "metadata": {},
     "output_type": "execute_result"
    }
   ],
   "source": [
    "k_df1.head()"
   ]
  },
  {
   "cell_type": "code",
   "execution_count": 134,
   "metadata": {},
   "outputs": [
    {
     "name": "stderr",
     "output_type": "stream",
     "text": [
      "No handles with labels found to put in legend.\n"
     ]
    },
    {
     "data": {
      "text/plain": [
       "<matplotlib.legend.Legend at 0x19cd2129940>"
      ]
     },
     "execution_count": 134,
     "metadata": {},
     "output_type": "execute_result"
    },
    {
     "data": {
      "image/png": "[encoded data removed]",
      "text/plain": [
       "<Figure size 432x288 with 1 Axes>"
      ]
     },
     "metadata": {
      "needs_background": "light"
     },
     "output_type": "display_data"
    }
   ],
   "source": [
    "plt.xlabel=('Temperature')\n",
    "plt.ylabel=('Features')\n",
    "\n",
    "plt.scatter(k_df1['Temperature(F)'],k_df1['Humidity(%)'],color='yellow',edgecolors='black', s=50)\n",
    "plt.scatter(k_df1['Temperature(F)'],k_df1['Pressure(in)'],color='yellow',edgecolors='black', s=50)\n",
    "plt.scatter(k_df1['Temperature(F)'],k_df1['Visibility(mi)'],color='yellow',edgecolors='black', s=50)\n",
    "plt.scatter(k_df1['Temperature(F)'],k_df1['Wind_Speed(mph)'],color='yellow',edgecolors='black', s=50)\n",
    "\n",
    "plt.scatter(k_df2['Temperature(F)'],k_df2['Humidity(%)'],color='orange',edgecolors='black', s=50)\n",
    "#plt.scatter(k_df2['Temperature(F)'],k_df2['Pressure(in)'],color='green',edgecolors='black', s=50)\n",
    "#plt.scatter(k_df2['Temperature(F)'],k_df2['Visibility(mi)'],color='green',edgecolors='black', s=50)\n",
    "\n",
    "plt.scatter(k_df3['Temperature(F)'],k_df3['Humidity(%)'],color='blue',edgecolors='black', s=50)\n",
    "plt.scatter(k_df3['Temperature(F)'],k_df3['Pressure(in)'],color='blue',edgecolors='black', s=50)\n",
    "#plt.scatter(k_df3['Temperature(F)'],k_df3['Visibility(mi)'],color='blue',edgecolors='black', s=50)\n",
    "\n",
    "plt.scatter(k_df4['Temperature(F)'],k_df4['Humidity(%)'],color='red',edgecolors='black', s=50)\n",
    "plt.scatter(k_df4['Temperature(F)'],k_df4['Pressure(in)'],color='red',edgecolors='black', s=50)\n",
    "plt.scatter(k_df4['Temperature(F)'],k_df4['Visibility(mi)'],color='red',edgecolors='black', s=50)\n",
    "\n",
    "plt.scatter(km.cluster_centers_[:,0],km.cluster_centers_[:,1],color=\"red\",s=200,marker=\"*\")\n",
    "plt.legend()\n"
   ]
  },
  {
   "cell_type": "code",
   "execution_count": null,
   "metadata": {},
   "outputs": [],
   "source": []
  }
 ],
 "metadata": {
  "kernelspec": {
   "display_name": "Python 3",
   "language": "python",
   "name": "python3"
  },
  "language_info": {
   "codemirror_mode": {
    "name": "ipython",
    "version": 3
   },
   "file_extension": ".py",
   "mimetype": "text/x-python",
   "name": "python",
   "nbconvert_exporter": "python",
   "pygments_lexer": "ipython3",
   "version": "3.7.3"
  }
 },
 "nbformat": 4,
 "nbformat_minor": 2
}
